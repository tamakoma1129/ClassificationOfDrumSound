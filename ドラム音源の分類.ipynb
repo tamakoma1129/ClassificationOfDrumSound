{
  "nbformat": 4,
  "nbformat_minor": 0,
  "metadata": {
    "colab": {
      "provenance": [],
      "gpuType": "T4",
      "mount_file_id": "1SAkb82rnZFqEmEpJyTq7vQKmjL2t2QFx",
      "authorship_tag": "ABX9TyPoN131Z6iJTUlpyPqmo/9I",
      "include_colab_link": true
    },
    "kernelspec": {
      "name": "python3",
      "display_name": "Python 3"
    },
    "language_info": {
      "name": "python"
    },
    "accelerator": "GPU"
  },
  "cells": [
    {
      "cell_type": "markdown",
      "metadata": {
        "id": "view-in-github",
        "colab_type": "text"
      },
      "source": [
        "<a href=\"https://colab.research.google.com/github/tamakoma1129/ClassificationOfDrumSound/blob/main/%E3%83%89%E3%83%A9%E3%83%A0%E9%9F%B3%E6%BA%90%E3%81%AE%E5%88%86%E9%A1%9E.ipynb\" target=\"_parent\"><img src=\"https://colab.research.google.com/assets/colab-badge.svg\" alt=\"Open In Colab\"/></a>"
      ]
    },
    {
      "cell_type": "code",
      "execution_count": 8,
      "metadata": {
        "id": "ZCPANu3IMoUI"
      },
      "outputs": [],
      "source": [
        "import os\n",
        "import glob\n",
        "import numpy as np\n",
        "import librosa\n",
        "\n",
        "#wavファイルをmfccにして、numpy配列で保存\n",
        "\n",
        "# 対象とするフォルダのパスを指定\n",
        "folder_path = \"/content/drive/My Drive/...\"\n",
        "\n",
        "# フォルダ内の全てのwavファイルに対して処理を行います\n",
        "for filename in glob.glob(os.path.join(folder_path, '*.wav')):\n",
        "    # 音声ファイルの読み込み\n",
        "    y, sr = librosa.load(filename, sr=None) #sr=Noneにすることでオリジナルサンプリングレートで読み込む\n",
        "\n",
        "    # MFCCの計算\n",
        "    mfccs = librosa.feature.mfcc(y=y, sr=sr, n_mfcc=13) #13次元を指定しているが、とりあえずなので後から修正も\n",
        "\n",
        "    # MFCCsを'.npy'ファイルとして保存\n",
        "    # ファイル名から拡張子を除いたものに'_mfccs.npy'を付けた名前で保存します\n",
        "    np.save(os.path.splitext(filename)[0] + '_mfccs.npy', mfccs)"
      ]
    }
  ]
}