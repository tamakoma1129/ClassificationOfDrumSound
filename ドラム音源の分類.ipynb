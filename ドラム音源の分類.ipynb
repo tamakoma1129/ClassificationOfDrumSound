{
  "nbformat": 4,
  "nbformat_minor": 0,
  "metadata": {
    "colab": {
      "provenance": [],
      "gpuType": "T4",
      "mount_file_id": "1SAkb82rnZFqEmEpJyTq7vQKmjL2t2QFx",
      "authorship_tag": "ABX9TyOIOdvBDBS/6KmnDZBz/tRh",
      "include_colab_link": true
    },
    "kernelspec": {
      "name": "python3",
      "display_name": "Python 3"
    },
    "language_info": {
      "name": "python"
    },
    "accelerator": "GPU"
  },
  "cells": [
    {
      "cell_type": "markdown",
      "metadata": {
        "id": "view-in-github",
        "colab_type": "text"
      },
      "source": [
        "<a href=\"https://colab.research.google.com/github/tamakoma1129/ClassificationOfDrumSound/blob/main/%E3%83%89%E3%83%A9%E3%83%A0%E9%9F%B3%E6%BA%90%E3%81%AE%E5%88%86%E9%A1%9E.ipynb\" target=\"_parent\"><img src=\"https://colab.research.google.com/assets/colab-badge.svg\" alt=\"Open In Colab\"/></a>"
      ]
    },
    {
      "cell_type": "markdown",
      "source": [
        "wav音声ファイルをMFCCファイルに変換"
      ],
      "metadata": {
        "id": "zNVs4V3Z4xZr"
      }
    },
    {
      "cell_type": "code",
      "execution_count": 8,
      "metadata": {
        "id": "ZCPANu3IMoUI"
      },
      "outputs": [],
      "source": [
        "import os\n",
        "import glob\n",
        "import numpy as np\n",
        "import librosa\n",
        "\n",
        "#wavファイルをmfccにして、numpy配列で保存\n",
        "\n",
        "# 対象とするフォルダのパスを指定\n",
        "folder_path = \"/content/drive/My Drive/...\"\n",
        "\n",
        "# フォルダ内の全てのwavファイルに対して処理を行います\n",
        "for filename in glob.glob(os.path.join(folder_path, '*.wav')):\n",
        "    # 音声ファイルの読み込み\n",
        "    y, sr = librosa.load(filename, sr=None) #sr=Noneにすることでオリジナルサンプリングレートで読み込む\n",
        "\n",
        "    # MFCCの計算\n",
        "    mfccs = librosa.feature.mfcc(y=y, sr=sr, n_mfcc=13) #13次元を指定しているが、とりあえずなので後から修正も\n",
        "\n",
        "    # MFCCsを'.npy'ファイルとして保存\n",
        "    # ファイル名から拡張子を除いたものに'_mfccs.npy'を付けた名前で保存します\n",
        "    np.save(os.path.splitext(filename)[0] + '_mfccs.npy', mfccs)"
      ]
    },
    {
      "cell_type": "markdown",
      "source": [
        "各データの長さを見る"
      ],
      "metadata": {
        "id": "iazTJyLF4w78"
      }
    },
    {
      "cell_type": "code",
      "source": [
        "import matplotlib.pyplot as plt\n",
        "import numpy as np\n",
        "import librosa\n",
        "\n",
        "# すべてのファイルパスを取得します\n",
        "file_paths = glob.glob(os.path.join(\"/content/drive/MyDrive/ドラム音源の分類/data\", '*', '*.wav'))\n",
        "\n",
        "# 各音声ファイルの長さ（秒）を格納するリスト\n",
        "lengths = []\n",
        "\n",
        "# 各ファイルの長さを計算します\n",
        "for file_path in file_paths:\n",
        "    y, sr = librosa.load(file_path, sr=None)\n",
        "    length = librosa.get_duration(y=y, sr=sr)\n",
        "    lengths.append(length)\n",
        "\n",
        "# numpy arrayに変換します\n",
        "lengths = np.array(lengths)\n",
        "\n",
        "# ヒストグラムを表示します\n",
        "plt.hist(lengths, bins=50)\n",
        "plt.xlabel('Length (seconds)')\n",
        "plt.ylabel('Count')\n",
        "plt.show()\n"
      ],
      "metadata": {
        "colab": {
          "base_uri": "https://localhost:8080/",
          "height": 449
        },
        "id": "9no7rsUF4Dqu",
        "outputId": "9b5169dd-dc33-45c0-c8ab-c1e2e25eebef"
      },
      "execution_count": 3,
      "outputs": [
        {
          "output_type": "display_data",
          "data": {
            "text/plain": [
              "<Figure size 640x480 with 1 Axes>"
            ],
            "image/png": "[encoded data removed]"
          },
          "metadata": {}
        }
      ]
    },
    {
      "cell_type": "markdown",
      "source": [],
      "metadata": {
        "id": "YaEB-dmS5NEF"
      }
    },
    {
      "cell_type": "code",
      "source": [
        "import os\n",
        "import glob\n",
        "import numpy as np\n",
        "from sklearn import svm\n",
        "from sklearn.model_selection import train_test_split\n",
        "from sklearn.preprocessing import LabelEncoder\n",
        "import librosa\n",
        "from sklearn.metrics import confusion_matrix\n",
        "from sklearn.metrics import ConfusionMatrixDisplay\n",
        "import matplotlib.pyplot as plt\n",
        "import random\n",
        "\n",
        "max_length = int(44100 * 0.2)  # 今回は6秒でパディングするので、44100Hz*6\n",
        "\n",
        "def load_and_pad(file_path):\n",
        "    y, sr = librosa.load(file_path, sr=None)\n",
        "    if len(y) > max_length:\n",
        "        y = y[:max_length]  # If もし長ければ切る\n",
        "    else:\n",
        "        y = np.pad(y, (0, max_length - len(y)))  # もし短ければ増やす\n",
        "    return y\n",
        "\n",
        "# フォルダ名とそのラベルを格納するリスト\n",
        "data = []\n",
        "labels = []\n",
        "\n",
        "# フォルダのパスを指定します (e.g., \"/content/drive/My Drive/A/data/\")\n",
        "base_folder_path = \"/content/drive/MyDrive/ドラム音源の分類/data\"\n",
        "\n",
        "# フォルダ内のサブフォルダ（ジャンル）を一つひとつ見ていきます\n",
        "for genre_folder in os.listdir(base_folder_path):\n",
        "    # サブフォルダ内の全ての.wavファイルに対して処理を行います\n",
        "    for filename in glob.glob(os.path.join(base_folder_path, genre_folder, '*.wav')):\n",
        "        # 音声ファイルの読み込みとパディング\n",
        "        y = load_and_pad(filename)\n",
        "        # MFCCの計算\n",
        "        mfccs = librosa.feature.mfcc(y=y, sr=176400, n_mfcc=40)\n",
        "        data.append(mfccs.flatten())  # SVMの入力に合わせデータをフラット化します\n",
        "        labels.append(genre_folder)  # フォルダ名（ジャンル名）をラベルとして追加\n",
        "\n",
        "# ラベル（ジャンル名）を数値に変換します。例えば、'CHihat' -> 0, 'OHihat' -> 1のような変換を行います\n",
        "encoder = LabelEncoder()\n",
        "labels = encoder.fit_transform(labels)\n",
        "\n",
        "accuracy100 = 0\n",
        "accuracy_list = []\n",
        "cm100 = np.zeros((len(encoder.classes_), len(encoder.classes_)))\n",
        "for _ in range(100):\n",
        "  # データとラベルを訓練データとテストデータに分割します\n",
        "  X_train, X_test, y_train, y_test = train_test_split(data, labels, test_size=0.2, random_state=random.randint(1,10000))\n",
        "\n",
        "  # SVMのモデルを作成し、訓練データで学習します\n",
        "  model = svm.SVC()\n",
        "  model.fit(X_train, y_train)\n",
        "\n",
        "  # テストデータでモデルの精度を確認します\n",
        "  accuracy = model.score(X_test, y_test)\n",
        "  accuracy_list.append(accuracy)\n",
        "  print(\"Accuracy: \", accuracy)\n",
        "  accuracy100+=accuracy\n",
        "  # テストデータの予測値を得ます\n",
        "  y_pred = model.predict(X_test)\n",
        "\n",
        "  # 混同行列を計算し、加算します\n",
        "  cm = confusion_matrix(y_test, y_pred)\n",
        "  cm100 += cm\n",
        "\n",
        "\n",
        "accuracy_std = np.std(accuracy_list)\n",
        "print(\"標準偏差: \", accuracy_std)\n",
        "print(\"平均正答率\",accuracy100/100)\n",
        "# 混同行列の平均を計算します\n",
        "cm_avg = cm100 / 100\n",
        "\n",
        "\n",
        "# 混同行列をプロットします\n",
        "disp = ConfusionMatrixDisplay(confusion_matrix=cm_avg,display_labels=model.classes_)\n",
        "disp.plot()\n",
        "plt.show()\n",
        "cnt=0\n",
        "# 各ラベルに対応した名前を表示します\n",
        "for i in encoder.classes_:\n",
        "  print(f\"{cnt}:{i}\")\n",
        "  cnt+=1"
      ],
      "metadata": {
        "colab": {
          "base_uri": "https://localhost:8080/",
          "height": 1000
        },
        "id": "oOLgTbYM5NNa",
        "outputId": "7975079a-74cb-4d8c-e032-2f7bf02a0f3e"
      },
      "execution_count": 77,
      "outputs": [
        {
          "output_type": "stream",
          "name": "stdout",
          "text": [
            "Accuracy:  0.8507462686567164\n",
            "Accuracy:  0.7910447761194029\n",
            "Accuracy:  0.8955223880597015\n",
            "Accuracy:  0.8656716417910447\n",
            "Accuracy:  0.8656716417910447\n",
            "Accuracy:  0.8507462686567164\n",
            "Accuracy:  0.8805970149253731\n",
            "Accuracy:  0.8059701492537313\n",
            "Accuracy:  0.835820895522388\n",
            "Accuracy:  0.8805970149253731\n",
            "Accuracy:  0.8059701492537313\n",
            "Accuracy:  0.8955223880597015\n",
            "Accuracy:  0.7761194029850746\n",
            "Accuracy:  0.8507462686567164\n",
            "Accuracy:  0.835820895522388\n",
            "Accuracy:  0.7910447761194029\n",
            "Accuracy:  0.835820895522388\n",
            "Accuracy:  0.8208955223880597\n",
            "Accuracy:  0.8059701492537313\n",
            "Accuracy:  0.8208955223880597\n",
            "Accuracy:  0.8059701492537313\n",
            "Accuracy:  0.8955223880597015\n",
            "Accuracy:  0.9104477611940298\n",
            "Accuracy:  0.8507462686567164\n",
            "Accuracy:  0.8507462686567164\n",
            "Accuracy:  0.7910447761194029\n",
            "Accuracy:  0.8507462686567164\n",
            "Accuracy:  0.8059701492537313\n",
            "Accuracy:  0.7761194029850746\n",
            "Accuracy:  0.8059701492537313\n",
            "Accuracy:  0.835820895522388\n",
            "Accuracy:  0.8059701492537313\n",
            "Accuracy:  0.8507462686567164\n",
            "Accuracy:  0.7761194029850746\n",
            "Accuracy:  0.8805970149253731\n",
            "Accuracy:  0.8656716417910447\n",
            "Accuracy:  0.8805970149253731\n",
            "Accuracy:  0.8208955223880597\n",
            "Accuracy:  0.7910447761194029\n",
            "Accuracy:  0.8656716417910447\n",
            "Accuracy:  0.8805970149253731\n",
            "Accuracy:  0.8059701492537313\n",
            "Accuracy:  0.8656716417910447\n",
            "Accuracy:  0.8656716417910447\n",
            "Accuracy:  0.7611940298507462\n",
            "Accuracy:  0.8059701492537313\n",
            "Accuracy:  0.8059701492537313\n",
            "Accuracy:  0.835820895522388\n",
            "Accuracy:  0.8955223880597015\n",
            "Accuracy:  0.8805970149253731\n",
            "Accuracy:  0.8059701492537313\n",
            "Accuracy:  0.835820895522388\n",
            "Accuracy:  0.8208955223880597\n",
            "Accuracy:  0.8656716417910447\n",
            "Accuracy:  0.8507462686567164\n",
            "Accuracy:  0.8507462686567164\n",
            "Accuracy:  0.835820895522388\n",
            "Accuracy:  0.8059701492537313\n",
            "Accuracy:  0.835820895522388\n",
            "Accuracy:  0.835820895522388\n",
            "Accuracy:  0.7611940298507462\n",
            "Accuracy:  0.8507462686567164\n",
            "Accuracy:  0.8955223880597015\n",
            "Accuracy:  0.8955223880597015\n",
            "Accuracy:  0.7761194029850746\n",
            "Accuracy:  0.7910447761194029\n",
            "Accuracy:  0.7313432835820896\n",
            "Accuracy:  0.8656716417910447\n",
            "Accuracy:  0.7313432835820896\n",
            "Accuracy:  0.8656716417910447\n",
            "Accuracy:  0.7761194029850746\n",
            "Accuracy:  0.8208955223880597\n",
            "Accuracy:  0.746268656716418\n",
            "Accuracy:  0.8507462686567164\n",
            "Accuracy:  0.8208955223880597\n",
            "Accuracy:  0.835820895522388\n",
            "Accuracy:  0.9253731343283582\n",
            "Accuracy:  0.8208955223880597\n",
            "Accuracy:  0.8059701492537313\n",
            "Accuracy:  0.7910447761194029\n",
            "Accuracy:  0.8656716417910447\n",
            "Accuracy:  0.835820895522388\n",
            "Accuracy:  0.8507462686567164\n",
            "Accuracy:  0.7761194029850746\n",
            "Accuracy:  0.7611940298507462\n",
            "Accuracy:  0.8059701492537313\n",
            "Accuracy:  0.7910447761194029\n",
            "Accuracy:  0.8656716417910447\n",
            "Accuracy:  0.8805970149253731\n",
            "Accuracy:  0.8507462686567164\n",
            "Accuracy:  0.8507462686567164\n",
            "Accuracy:  0.8059701492537313\n",
            "Accuracy:  0.8656716417910447\n",
            "Accuracy:  0.8208955223880597\n",
            "Accuracy:  0.7761194029850746\n",
            "Accuracy:  0.8208955223880597\n",
            "Accuracy:  0.8208955223880597\n",
            "Accuracy:  0.8656716417910447\n",
            "Accuracy:  0.8208955223880597\n",
            "Accuracy:  0.835820895522388\n",
            "標準偏差:  0.04039761169325541\n",
            "平均正答率 0.8314925373134325\n"
          ]
        },
        {
          "output_type": "display_data",
          "data": {
            "text/plain": [
              "<Figure size 640x480 with 2 Axes>"
            ],
            "image/png": "[encoded data removed]"
          },
          "metadata": {}
        },
        {
          "output_type": "stream",
          "name": "stdout",
          "text": [
            "0:CHihat\n",
            "1:OHihat\n",
            "2:crash\n",
            "3:kick\n",
            "4:snare\n",
            "5:tom\n"
          ]
        }
      ]
    }
  ]
}